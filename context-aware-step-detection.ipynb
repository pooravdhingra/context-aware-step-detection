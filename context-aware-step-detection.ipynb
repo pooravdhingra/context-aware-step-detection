{
 "cells": [
  {
   "cell_type": "markdown",
   "metadata": {},
   "source": [
    "# Context-Aware Step Counting\n",
    "This project notebook implements a step-counting algorithm that adjusts based on context (walking, jogging, stairs).\n",
    "The following steps are followed:\n",
    "\n",
    "1. **Problem Definition**: Justify the need for context-aware step counting.\n",
    "2. **Sensor Selection**: Use accelerometer and gyroscope data.\n",
    "3. **Data Collection**: Annotate and preprocess.\n",
    "4. **Feature Engineering**: Extract meaningful features for classification.\n",
    "5. **Classification**: Train models to detect context and adapt step-counting parameters.\n",
    "6. **Visualization and Results**: Analyze signals and evaluate accuracy.\n",
    "\n",
    "Each step is modular and reusable."
   ]
  },
  {
   "cell_type": "markdown",
   "metadata": {},
   "source": [
    "## Step 1: Problem Definition - Baseline Step Counting\n",
    "Here, we demonstrate the limitations of a standard step-counting algorithm in different contexts."
   ]
  },
  {
   "cell_type": "code",
   "execution_count": 1,
   "metadata": {},
   "outputs": [],
   "source": [
    "# Imports\n",
    "import numpy as np\n",
    "import pandas as pd\n",
    "import matplotlib.pyplot as plt\n",
    "from scipy.signal import butter, filtfilt, find_peaks\n",
    "from sklearn.model_selection import train_test_split\n",
    "from sklearn.ensemble import RandomForestClassifier\n",
    "from sklearn.metrics import accuracy_score, confusion_matrix, classification_report\n",
    "from sklearn.preprocessing import LabelEncoder\n",
    "\n",
    "# Configure plots\n",
    "plt.rcParams['figure.figsize'] = [9, 6]\n",
    "plt.rcParams['axes.grid'] = True\n",
    "\n",
    "# Helper function: Preprocess accelerometer data (magnitude calculation)\n",
    "def calc_magnitude(df, x_col='x', y_col='y', z_col='z'):\n",
    "    \"\"\"Calculate acceleration magnitude and remove gravity effect.\"\"\"\n",
    "    df['accel_mag'] = np.sqrt(df[x_col]**2 + df[y_col]**2 + df[z_col]**2)\n",
    "    df['accel_mag'] -= df['accel_mag'].mean()\n",
    "    return df\n",
    "\n",
    "# Helper function: Apply low-pass filter to reduce noise\n",
    "def remove_noise(df, cutoff=5, sample_rate=50):\n",
    "    \"\"\"Apply a low-pass Butterworth filter to the signal.\"\"\"\n",
    "    nyquist = 0.5 * sample_rate\n",
    "    normalized_cutoff = cutoff / nyquist\n",
    "    b, a = butter(2, normalized_cutoff, btype='low', analog=False)\n",
    "    df['filtered_accel_mag'] = filtfilt(b, a, df['accel_mag'])\n",
    "    return df\n",
    "\n",
    "# Load baseline data (walking data as an example)\n",
    "data = pd.read_csv('./data/Baseline/walking.csv')\n",
    "data = calc_magnitude(data)\n",
    "data = remove_noise(data)\n",
    "\n",
    "# Visualize filtered signal\n",
    "plt.plot(data['filtered_accel_mag'][:1000])\n",
    "plt.title('Filtered Acceleration Magnitude (Walking)')\n",
    "plt.xlabel('Time (samples)')\n",
    "plt.ylabel('Magnitude')\n",
    "plt.show()\n",
    "\n",
    "# Example: Evaluate step counting using peak detection\n",
    "peaks, _ = find_peaks(data['filtered_accel_mag'], height=0.5, distance=30)\n",
    "print(f\"Detected steps: {len(peaks)}\")"
   ]
  },
  {
   "cell_type": "markdown",
   "metadata": {},
   "source": [
    "## Step 2: Sensor Selection\n",
    "- Core sensors: Accelerometer, Gyroscope\n",
    "- (Optional) Barometer for altitude detection\n",
    "\n",
    "No code here, but ensure your devices support these sensors and collect the necessary data."
   ]
  },
  {
   "cell_type": "markdown",
   "metadata": {},
   "source": [
    "## Step 3: Data Collection and Labeling\n",
    "Collect and preprocess annotated data for multiple activities."
   ]
  },
  {
   "cell_type": "code",
   "execution_count": 2,
   "metadata": {},
   "outputs": [],
   "source": [
    "# Transform collected data timestamps to datetime\n",
    "def transform_time_to_datetime(root_dir):\n",
    "    \"\"\"Convert raw timestamps to datetime for all collected data.\"\"\"\n",
    "    for activity in os.listdir(root_dir):\n",
    "        activity_dir = os.path.join(root_dir, activity)\n",
    "        for file in glob.glob(f\"{activity_dir}/*.csv\"):\n",
    "            df = pd.read_csv(file)\n",
    "            df['time'] = pd.to_datetime(df['time'], unit='ns')\n",
    "            df.to_csv(file, index=False)\n",
    "\n",
    "# Example usage:\n",
    "transform_time_to_datetime('./data/MyData')"
   ]
  },
  {
   "cell_type": "markdown",
   "metadata": {},
   "source": [
    "## Step 4: Feature Engineering\n",
    "Extract statistical and domain-specific features from the preprocessed data."
   ]
  },
  {
   "cell_type": "code",
   "execution_count": 3,
   "metadata": {},
   "outputs": [],
   "source": [
    "# Feature extraction (e.g., mean, std, quantiles)\n",
    "def extract_features(window):\n",
    "    \"\"\"Extract features from a data window.\"\"\"\n",
    "    features = {\n",
    "        'mean': window['filtered_accel_mag'].mean(),\n",
    "        'std': window['filtered_accel_mag'].std(),\n",
    "        'max': window['filtered_accel_mag'].max(),\n",
    "        'min': window['filtered_accel_mag'].min()\n",
    "    }\n",
    "    return features\n",
    "\n",
    "# Apply sliding window for feature extraction\n",
    "def sliding_window_features(data, window_size=50):\n",
    "    \"\"\"Extract features using a sliding window.\"\"\"\n",
    "    features_list = []\n",
    "    for start in range(0, len(data) - window_size + 1, window_size):\n",
    "        window = data.iloc[start:start + window_size]\n",
    "        features = extract_features(window)\n",
    "        features_list.append(features)\n",
    "    return pd.DataFrame(features_list)\n",
    "\n",
    "# Example:\n",
    "features = sliding_window_features(data)\n",
    "features.head()"
   ]
  },
  {
   "cell_type": "markdown",
   "metadata": {},
   "source": [
    "## Step 5: Classification\n",
    "Train a model to classify activity contexts and adjust step-counting parameters."
   ]
  },
  {
   "cell_type": "code",
   "execution_count": 4,
   "metadata": {},
   "outputs": [],
   "source": [
    "# Train a classifier for context detection\n",
    "X = features.drop(columns=['label'])  # Feature columns\n",
    "y = features['label']                # Labels\n",
    "\n",
    "# Encode labels\n",
    "le = LabelEncoder()\n",
    "y_encoded = le.fit_transform(y)\n",
    "\n",
    "# Split data\n",
    "X_train, X_test, y_train, y_test = train_test_split(X, y_encoded, test_size=0.3, random_state=42)\n",
    "\n",
    "# Train a Random Forest Classifier\n",
    "clf = RandomForestClassifier(n_estimators=100, random_state=42)\n",
    "clf.fit(X_train, y_train)\n",
    "\n",
    "# Evaluate performance\n",
    "y_pred = clf.predict(X_test)\n",
    "print(\"Classification Report:\")\n",
    "print(classification_report(y_test, y_pred, target_names=le.classes_))"
   ]
  },
  {
   "cell_type": "markdown",
   "metadata": {},
   "source": [
    "## Step 6: Dynamic Step Counting\n",
    "Adjust step-counting parameters dynamically based on the detected context."
   ]
  },
  {
   "cell_type": "code",
   "execution_count": 5,
   "metadata": {},
   "outputs": [],
   "source": [
    "# Dynamic step counting based on context\n",
    "def dynamic_step_counting(data, context):\n",
    "    \"\"\"Adjust step-counting parameters based on context.\"\"\"\n",
    "    params = {\n",
    "        'walking': {'height': 0.5, 'distance': 30},\n",
    "        'jogging': {'height': 1.0, 'distance': 20},\n",
    "        'stairs': {'height': 0.7, 'distance': 25}\n",
    "    }\n",
    "    context_params = params.get(context, {'height': 0.5, 'distance': 30})\n",
    "    peaks, _ = find_peaks(data['filtered_accel_mag'], \n",
    "                          height=context_params['height'], \n",
    "                          distance=context_params['distance'])\n",
    "    return len(peaks)\n",
    "\n",
    "# Example:\n",
    "context = 'walking'  # Assume detected context\n",
    "steps = dynamic_step_counting(data, context)\n",
    "print(f\"Detected steps in {context}: {steps}\")"
   ]
  },
  {
   "cell_type": "markdown",
   "metadata": {},
   "source": [
    "## Final Steps: Visualization and Reporting\n",
    "- Visualize signals, classifications, and step detection accuracy.\n",
    "- Generate confusion matrices and feature importance rankings."
   ]
  }
 ],
 "metadata": {
  "kernelspec": {
   "display_name": "Python 3",
   "language": "python",
   "name": "python3"
  },
  "language_info": {
   "codemirror_mode": {
    "name": "ipython",
    "version": 3
   },
   "file_extension": ".py",
   "mimetype": "text/x-python",
   "name": "python",
   "nbconvert_exporter": "python",
   "pygments_lexer": "ipython3",
   "version": "3.10.13"
  }
 },
 "nbformat": 4,
 "nbformat_minor": 5
}
