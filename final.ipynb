{
 "cells": [
  {
   "cell_type": "markdown",
   "metadata": {},
   "source": [
    "# Context-Aware Step Counting\n",
    "This project implements a step-counting algorithm that dynamically adjusts based on activity contexts (e.g., walking, jogging, stairs). The project also evaluates accelerometer and gyroscope data individually and combined, using key metrics and visualizations to highlight findings."
   ]
  },
  {
   "cell_type": "markdown",
   "metadata": {},
   "source": [
    "## 1. Problem Definition\n",
    "Traditional step-counting algorithms often fail in diverse activity contexts. This project aims to:\n",
    "- Classify activities using sensor data (accelerometer, gyroscope).\n",
    "- Adjust step-counting parameters dynamically based on detected activity.\n",
    "\n",
    "### Approach\n",
    "- Use accelerometer and gyroscope data for classification.\n",
    "- Dynamically adapt step-counting thresholds for each activity.\n",
    "- Validate improvements over baseline step counting.\n",
    "\n",
    "### How It Extends Course Assignments\n",
    "- Incorporates multi-sensor fusion (accelerometer + gyroscope).\n",
    "- Introduces dynamic parameterization for activity-aware step counting."
   ]
  },
  {
   "cell_type": "markdown",
   "metadata": {},
   "source": [
    "## 2. Data Collection & Processing"
   ]
  },
  {
   "cell_type": "code",
   "execution_count": 1,
   "metadata": {},
   "outputs": [],
   "source": [
    "import os\n",
    "import numpy as np\n",
    "import pandas as pd\n",
    "import matplotlib.pyplot as plt\n",
    "from scipy.signal import butter, filtfilt, find_peaks\n",
    "from sklearn.model_selection import train_test_split\n",
    "from sklearn.ensemble import RandomForestClassifier\n",
    "from sklearn.metrics import confusion_matrix, classification_report\n",
    "from sklearn.preprocessing import LabelEncoder\n",
    "\n",
    "# Visualization Settings\n",
    "plt.rcParams['figure.figsize'] = [9, 6]\n",
    "plt.rcParams['axes.grid'] = True\n",
    "\n",
    "# Helper: Timestamp Transformation\n",
    "def transform_time_to_datetime(root):\n",
    "    \"\"\"Convert timestamps in collected data to datetime.\"\"\"\n",
    "    for activity in os.listdir(root):\n",
    "        activity_path = os.path.join(root, activity)\n",
    "        for file in os.listdir(activity_path):\n",
    "            if file.endswith('.csv'):\n",
    "                file_path = os.path.join(activity_path, file)\n",
    "                df = pd.read_csv(file_path)\n",
    "                df['time'] = pd.to_datetime(df['time'], unit='ns', errors='coerce')\n",
    "                df.to_csv(file_path, index=False)\n",
    "\n",
    "# Transform timestamps for MyData directory\n",
    "transform_time_to_datetime('./data/MyData')"
   ]
  },
  {
   "cell_type": "markdown",
   "metadata": {},
   "source": [
    "### Preprocessing and Feature Engineering"
   ]
  },
  {
   "cell_type": "code",
   "execution_count": 2,
   "metadata": {},
   "outputs": [],
   "source": [
    "# Helper: Signal Preprocessing\n",
    "def calc_magnitude(df, x_col, y_col, z_col):\n",
    "    \"\"\"Calculate the magnitude of a 3-axis signal.\"\"\"\n",
    "    df['magnitude'] = np.sqrt(df[x_col]**2 + df[y_col]**2 + df[z_col]**2)\n",
    "    df['magnitude'] -= df['magnitude'].mean()\n",
    "    return df\n",
    "\n",
    "def remove_noise(df, column='magnitude', cutoff=5, sample_rate=50):\n",
    "    \"\"\"Apply a low-pass Butterworth filter to reduce noise.\"\"\"\n",
    "    nyquist = 0.5 * sample_rate\n",
    "    normalized_cutoff = cutoff / nyquist\n",
    "    b, a = butter(2, normalized_cutoff, btype='low', analog=False)\n",
    "    df[f'filtered_{column}'] = filtfilt(b, a, df[column])\n",
    "    return df\n",
    "\n",
    "# Example: Load walking data\n",
    "data = pd.read_csv('./data/MyData/walking.csv')\n",
    "data = calc_magnitude(data, 'x', 'y', 'z')\n",
    "data = remove_noise(data)\n",
    "\n",
    "# Plot filtered signal\n",
    "plt.plot(data['filtered_magnitude'][:1000], label='Filtered Magnitude')\n",
    "plt.title('Filtered Accelerometer Signal (Walking)')\n",
    "plt.legend()\n",
    "plt.show()"
   ]
  },
  {
   "cell_type": "markdown",
   "metadata": {},
   "source": [
    "## 3. Feature Extraction & Sensor Comparison"
   ]
  },
  {
   "cell_type": "code",
   "execution_count": 3,
   "metadata": {},
   "outputs": [],
   "source": [
    "# Helper: Extract Features\n",
    "def extract_features(window):\n",
    "    \"\"\"Extract statistical features from a signal window.\"\"\"\n",
    "    features = {\n",
    "        'mean': window.mean(),\n",
    "        'std': window.std(),\n",
    "        'max': window.max(),\n",
    "        'min': window.min(),\n",
    "        'q25': window.quantile(0.25),\n",
    "        'q75': window.quantile(0.75)\n",
    "    }\n",
    "    return pd.DataFrame([features])\n",
    "\n",
    "# Helper: Sliding Window\n",
    "def sliding_window_features(data, column, window_size=50):\n",
    "    \"\"\"Apply sliding window to extract features from data.\"\"\"\n",
    "    features_list = []\n",
    "    for start in range(0, len(data) - window_size + 1, window_size):\n",
    "        window = data[column][start:start + window_size]\n",
    "        features = extract_features(window)\n",
    "        features_list.append(features)\n",
    "    return pd.concat(features_list, ignore_index=True)\n",
    "\n",
    "# Example: Compare Accelerometer vs. Gyroscope\n",
    "accel_features = sliding_window_features(data, 'filtered_magnitude')\n",
    "gyro_data = pd.read_csv('./data/MyData/walking_gyro.csv')\n",
    "gyro_data = calc_magnitude(gyro_data, 'gyro_x', 'gyro_y', 'gyro_z')\n",
    "gyro_data = remove_noise(gyro_data)\n",
    "gyro_features = sliding_window_features(gyro_data, 'filtered_magnitude')\n",
    "\n",
    "# Visualization\n",
    "plt.plot(data['filtered_magnitude'][:500], label='Accelerometer')\n",
    "plt.plot(gyro_data['filtered_magnitude'][:500], label='Gyroscope')\n",
    "plt.legend()\n",
    "plt.title('Comparison: Accelerometer vs Gyroscope Signal')\n",
    "plt.show()"
   ]
  },
  {
   "cell_type": "markdown",
   "metadata": {},
   "source": [
    "## 4. Classification and Step Counting"
   ]
  },
  {
   "cell_type": "code",
   "execution_count": 4,
   "metadata": {},
   "outputs": [],
   "source": [
    "# Combine Features\n",
    "combined_features = pd.concat([accel_features, gyro_features], axis=1)\n",
    "\n",
    "# Add Labels\n",
    "combined_features['label'] = 'walking'\n",
    "\n",
    "# Encode Labels\n",
    "le = LabelEncoder()\n",
    "combined_features['label_encoded'] = le.fit_transform(combined_features['label'])\n",
    "\n",
    "# Train-Test Split\n",
    "X = combined_features.drop(columns=['label', 'label_encoded'])\n",
    "y = combined_features['label_encoded']\n",
    "X_train, X_test, y_train, y_test = train_test_split(X, y, test_size=0.3, random_state=42)\n",
    "\n",
    "# Train Classifier\n",
    "clf = RandomForestClassifier(n_estimators=100, random_state=42)\n",
    "clf.fit(X_train, y_train)\n",
    "\n",
    "# Evaluate\n",
    "y_pred = clf.predict(X_test)\n",
    "print(\"Classification Report:\")\n",
    "print(classification_report(y_test, y_pred))"
   ]
  },
  {
   "cell_type": "markdown",
   "metadata": {},
   "source": [
    "## 5. Visualize Results\n",
    "- Compare accelerometer-only, gyroscope-only, and combined data."
   ]
  },
  {
   "cell_type": "code",
   "execution_count": 5,
   "metadata": {},
   "outputs": [],
   "source": [
    "# Confusion Matrix for Combined Sensors\n",
    "cm = confusion_matrix(y_test, y_pred)\n",
    "plt.imshow(cm, cmap='Blues', interpolation='nearest')\n",
    "plt.colorbar()\n",
    "plt.title('Confusion Matrix: Combined Sensors')\n",
    "plt.xlabel('Predicted Label')\n",
    "plt.ylabel('True Label')\n",
    "plt.show()"
   ]
  }
 ],
 "metadata": {
  "kernelspec": {
   "display_name": "Python 3",
   "language": "python",
   "name": "python3"
  },
  "language_info": {
   "name": "python",
   "version": "3.8.10"
  }
 },
 "nbformat": 4,
 "nbformat_minor": 5
}
